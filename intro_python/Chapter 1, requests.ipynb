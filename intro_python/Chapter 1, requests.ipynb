{
 "cells": [
  {
   "cell_type": "code",
   "execution_count": 94,
   "metadata": {},
   "outputs": [
    {
     "data": {
      "text/html": [
       "<style>code:not(.cm-s-ipython){color:#ce005c;padding:.2em 0.4em;margin:0;font-size:85%;background-color:rgba(255,0,114,0.09);border-radius:3px}</style>"
      ],
      "text/plain": [
       "<IPython.core.display.HTML object>"
      ]
     },
     "execution_count": 94,
     "metadata": {},
     "output_type": "execute_result"
    }
   ],
   "source": [
    "from IPython.core.display import HTML\n",
    "HTML('<style>code:not(.cm-s-ipython){color:#ce005c;padding:.2em 0.4em;margin:0;font-size:85%;background-color:rgba(255,0,114,0.09);border-radius:3px}</style>')"
   ]
  },
  {
   "cell_type": "markdown",
   "metadata": {},
   "source": [
    "Попробуем разобраться с тем кодом на Python, который был в первой главе книги.\n",
    "\n",
    "### Первый сниппет (кусок кода)"
   ]
  },
  {
   "cell_type": "code",
   "execution_count": 4,
   "metadata": {},
   "outputs": [
    {
     "name": "stdout",
     "output_type": "stream",
     "text": [
      "HTTP Error 410: Gone\n"
     ]
    }
   ],
   "source": [
    "import json\n",
    "from urllib.request import urlopen, HTTPError\n",
    "\n",
    "url = \"https://gdata.youtube.com/feeds/api/standardfeeds/top_rated?alt=json\"\n",
    "\n",
    "try:\n",
    "    response = urlopen(url)\n",
    "    contents = response.read()\n",
    "    text = contents.decode('utf8')\n",
    "    data = json.loads(text)\n",
    "\n",
    "    for video in data['feed']['entry'][0:6]:\n",
    "     print(video['title']['$t'])\n",
    "    \n",
    "except HTTPError as e:\n",
    "    print(e)"
   ]
  },
  {
   "cell_type": "markdown",
   "metadata": {},
   "source": [
    "Этот код не работает, потому что книга слегка устарела и youtube выключил доступ к API. Об этом нам говорит код ответа 410. Вообще, все HTTP ответы типа 4xx — ошибки. Например, 404 — страница не найдена.\n",
    "\n",
    "В интернетах пишут, что url https://raw.githubusercontent.com/koki0702/introducing-python/master/dummy_api/youTube_top_rated.json работает. Пробуем его."
   ]
  },
  {
   "cell_type": "code",
   "execution_count": 10,
   "metadata": {},
   "outputs": [
    {
     "name": "stdout",
     "output_type": "stream",
     "text": [
      "Evolution of Dance - By Judson Laipply\n",
      "Linkin Park - Numb\n",
      "Potter Puppet Pals: The Mysterious Ticking Noise\n",
      "\"Chocolate Rain Original\" Song by Tay Zonday\n",
      "Charlie bit my finger - again !\n",
      "The Mean Kitty Song\n"
     ]
    }
   ],
   "source": [
    "import json\n",
    "from urllib.request import urlopen, HTTPError\n",
    "\n",
    "url = \"https://raw.githubusercontent.com/koki0702/introducing-python/master/dummy_api/youTube_top_rated.json\"\n",
    "\n",
    "try:\n",
    "    response = urlopen(url)\n",
    "    contents = response.read()\n",
    "    text = contents.decode('utf8')\n",
    "    data = json.loads(text)\n",
    "\n",
    "    for video in data['feed']['entry'][0:6]:\n",
    "     print(video['title']['$t'])\n",
    "    \n",
    "except HTTPError as e:\n",
    "    print(e)"
   ]
  },
  {
   "cell_type": "markdown",
   "metadata": {},
   "source": [
    "Отлично, работает. Пробуем разобраться что внутри. Смотрим на типы."
   ]
  },
  {
   "cell_type": "code",
   "execution_count": 11,
   "metadata": {},
   "outputs": [
    {
     "data": {
      "text/plain": [
       "<http.client.HTTPResponse at 0x17d71ef20f0>"
      ]
     },
     "execution_count": 11,
     "metadata": {},
     "output_type": "execute_result"
    }
   ],
   "source": [
    "# response = urlopen(url)\n",
    "response"
   ]
  },
  {
   "cell_type": "markdown",
   "metadata": {},
   "source": [
    "Пока понятно, что это какой-то ответ (http response) сервера."
   ]
  },
  {
   "cell_type": "code",
   "execution_count": 12,
   "metadata": {},
   "outputs": [
    {
     "data": {
      "text/plain": [
       "b'{\\n    \"feed\": {\\n\\t\"entry\": [\\n\\t    {\"title\": {\"$t\": \"Evolution of Dance - By Judson Laipply\"}},\\n\\t    {\"title\": {\"$t\": \"Linkin Park - Numb\"}},\\n\\t    {\"title\": {\"$t\": \"Potter Puppet Pals: The Mysterious Ticking Noise\"}},\\n\\t    {\"title\": {\"$t\": \"\\\\\"Chocolate Rain Original\\\\\" Song by Tay Zonday\"}},\\n\\t    {\"title\": {\"$t\": \"Charlie bit my finger - again !\"}},\\n\\t    {\"title\": {\"$t\": \"The Mean Kitty Song\"}}\\n\\t]\\n    }\\n}\\n'"
      ]
     },
     "execution_count": 12,
     "metadata": {},
     "output_type": "execute_result"
    }
   ],
   "source": [
    "# contents = response.read()\n",
    "contents"
   ]
  },
  {
   "cell_type": "markdown",
   "metadata": {},
   "source": [
    "Ура! Это содержимое файла. Видим знакомые **`\\n`** (new line) и **`\\t`** (tab symbol).\n",
    "\n",
    "В самом начале строки что-то странное:\n",
    "\n",
    "```python\n",
    "b'………'\n",
    "```\n",
    "\n",
    "Это питон так обозначает бинарную строку. То есть `contents` — это пока что список байт, а не строка, и Jupyter сконвертировал нам её для удобства. Преобразуем бинарную строку к обычной строке. `utf8` — название кодировки."
   ]
  },
  {
   "cell_type": "code",
   "execution_count": 13,
   "metadata": {},
   "outputs": [
    {
     "data": {
      "text/plain": [
       "'{\\n    \"feed\": {\\n\\t\"entry\": [\\n\\t    {\"title\": {\"$t\": \"Evolution of Dance - By Judson Laipply\"}},\\n\\t    {\"title\": {\"$t\": \"Linkin Park - Numb\"}},\\n\\t    {\"title\": {\"$t\": \"Potter Puppet Pals: The Mysterious Ticking Noise\"}},\\n\\t    {\"title\": {\"$t\": \"\\\\\"Chocolate Rain Original\\\\\" Song by Tay Zonday\"}},\\n\\t    {\"title\": {\"$t\": \"Charlie bit my finger - again !\"}},\\n\\t    {\"title\": {\"$t\": \"The Mean Kitty Song\"}}\\n\\t]\\n    }\\n}\\n'"
      ]
     },
     "execution_count": 13,
     "metadata": {},
     "output_type": "execute_result"
    }
   ],
   "source": [
    "# text = contents.decode('utf8')\n",
    "text"
   ]
  },
  {
   "cell_type": "markdown",
   "metadata": {},
   "source": [
    "То же самое, только без символа **`b`** в начале."
   ]
  },
  {
   "cell_type": "code",
   "execution_count": 54,
   "metadata": {},
   "outputs": [
    {
     "name": "stdout",
     "output_type": "stream",
     "text": [
      "{\n",
      "  \"feed\": {\n",
      "    \"entry\": [\n",
      "      {\"title\": {\"$t\": \"Evolution of Dance - By Judson Laipply\"}},\n",
      "      {\"title\": {\"$t\": \"Linkin Park - Numb\"}},\n",
      "      {\"title\": {\"$t\": \"Potter Puppet Pals: The Mysterious Ticking Noise\"}},\n",
      "      {\"title\": {\"$t\": \"\\\"Chocolate Rain Original\\\" Song by Tay Zonday\"}},\n",
      "      {\"title\": {\"$t\": \"Charlie bit my finger - again !\"}},\n",
      "      {\"title\": {\"$t\": \"The Mean Kitty Song\"}}\n",
      "    ]\n",
      "  }\n",
      "}\n",
      "\n"
     ]
    }
   ],
   "source": [
    "print(text.replace('    ', '  ').replace('\\t', '    '))"
   ]
  },
  {
   "cell_type": "markdown",
   "metadata": {},
   "source": [
    "А вот и сам JSON. По сути он очень похож на dictionary и lists в Python.\n",
    "Пробуем скопипастить и вставить в переменную."
   ]
  },
  {
   "cell_type": "code",
   "execution_count": 55,
   "metadata": {
    "scrolled": true
   },
   "outputs": [
    {
     "name": "stdout",
     "output_type": "stream",
     "text": [
      "{'feed': {'entry': [{'title': {'$t': 'Evolution of Dance - By Judson Laipply'}}, {'title': {'$t': 'Linkin Park - Numb'}}, {'title': {'$t': 'Potter Puppet Pals: The Mysterious Ticking Noise'}}, {'title': {'$t': '\"Chocolate Rain Original\" Song by Tay Zonday'}}, {'title': {'$t': 'Charlie bit my finger - again !'}}, {'title': {'$t': 'The Mean Kitty Song'}}]}}\n"
     ]
    }
   ],
   "source": [
    "music = {\n",
    "    \"feed\": {\n",
    "        \"entry\": [\n",
    "            {\"title\": {\"$t\": \"Evolution of Dance - By Judson Laipply\"}},\n",
    "            {\"title\": {\"$t\": \"Linkin Park - Numb\"}},\n",
    "            {\"title\": {\"$t\": \"Potter Puppet Pals: The Mysterious Ticking Noise\"}},\n",
    "            {\"title\": {\"$t\": \"\\\"Chocolate Rain Original\\\" Song by Tay Zonday\"}},\n",
    "            {\"title\": {\"$t\": \"Charlie bit my finger - again !\"}},\n",
    "            {\"title\": {\"$t\": \"The Mean Kitty Song\"}}\n",
    "        ]\n",
    "    }\n",
    "}\n",
    "\n",
    "print(music)"
   ]
  },
  {
   "cell_type": "markdown",
   "metadata": {},
   "source": [
    "Круто, конечно, что я взял и скопипастил JSON (который хранился в _text_)\n",
    "и присвоил его переменной _music_, но Python умеет делать это и сам."
   ]
  },
  {
   "cell_type": "code",
   "execution_count": 37,
   "metadata": {
    "scrolled": false
   },
   "outputs": [
    {
     "data": {
      "text/plain": [
       "{'feed': {'entry': [{'title': {'$t': 'Evolution of Dance - By Judson Laipply'}},\n",
       "   {'title': {'$t': 'Linkin Park - Numb'}},\n",
       "   {'title': {'$t': 'Potter Puppet Pals: The Mysterious Ticking Noise'}},\n",
       "   {'title': {'$t': '\"Chocolate Rain Original\" Song by Tay Zonday'}},\n",
       "   {'title': {'$t': 'Charlie bit my finger - again !'}},\n",
       "   {'title': {'$t': 'The Mean Kitty Song'}}]}}"
      ]
     },
     "execution_count": 37,
     "metadata": {},
     "output_type": "execute_result"
    }
   ],
   "source": [
    "# data = json.loads(text)\n",
    "data"
   ]
  },
  {
   "cell_type": "markdown",
   "metadata": {},
   "source": [
    "То есть **`json.loads`** берёт строку с JSONом (`text`) и пытается сконвертировать его в набор dictionary + lists + strings. "
   ]
  },
  {
   "cell_type": "code",
   "execution_count": 38,
   "metadata": {},
   "outputs": [
    {
     "data": {
      "text/plain": [
       "dict"
      ]
     },
     "execution_count": 38,
     "metadata": {},
     "output_type": "execute_result"
    }
   ],
   "source": [
    "type(data)"
   ]
  },
  {
   "cell_type": "code",
   "execution_count": 42,
   "metadata": {},
   "outputs": [
    {
     "data": {
      "text/plain": [
       "[{'title': {'$t': 'Evolution of Dance - By Judson Laipply'}},\n",
       " {'title': {'$t': 'Linkin Park - Numb'}},\n",
       " {'title': {'$t': 'Potter Puppet Pals: The Mysterious Ticking Noise'}},\n",
       " {'title': {'$t': '\"Chocolate Rain Original\" Song by Tay Zonday'}},\n",
       " {'title': {'$t': 'Charlie bit my finger - again !'}},\n",
       " {'title': {'$t': 'The Mean Kitty Song'}}]"
      ]
     },
     "execution_count": 42,
     "metadata": {},
     "output_type": "execute_result"
    }
   ],
   "source": [
    "data['feed']['entry']"
   ]
  },
  {
   "cell_type": "code",
   "execution_count": 44,
   "metadata": {},
   "outputs": [
    {
     "data": {
      "text/plain": [
       "{'title': {'$t': 'Evolution of Dance - By Judson Laipply'}}"
      ]
     },
     "execution_count": 44,
     "metadata": {},
     "output_type": "execute_result"
    }
   ],
   "source": [
    "# for video in data['feed']['entry'][0:6]:\n",
    "#     print(video['title']['$t'])\n",
    "\n",
    "video = data['feed']['entry'][0]; video"
   ]
  },
  {
   "cell_type": "code",
   "execution_count": 45,
   "metadata": {},
   "outputs": [
    {
     "data": {
      "text/plain": [
       "'Evolution of Dance - By Judson Laipply'"
      ]
     },
     "execution_count": 45,
     "metadata": {},
     "output_type": "execute_result"
    }
   ],
   "source": [
    "video['title']['$t']"
   ]
  },
  {
   "cell_type": "markdown",
   "metadata": {},
   "source": [
    "### Второй сниппет"
   ]
  },
  {
   "cell_type": "code",
   "execution_count": 59,
   "metadata": {},
   "outputs": [
    {
     "ename": "ModuleNotFoundError",
     "evalue": "No module named 'requests'",
     "output_type": "error",
     "traceback": [
      "\u001b[1;31m---------------------------------------------------------------------------\u001b[0m",
      "\u001b[1;31mModuleNotFoundError\u001b[0m                       Traceback (most recent call last)",
      "\u001b[1;32m<ipython-input-59-686486c241c8>\u001b[0m in \u001b[0;36m<module>\u001b[1;34m()\u001b[0m\n\u001b[1;32m----> 1\u001b[1;33m \u001b[1;32mimport\u001b[0m \u001b[0mrequests\u001b[0m\u001b[1;33m\u001b[0m\u001b[0m\n\u001b[0m",
      "\u001b[1;31mModuleNotFoundError\u001b[0m: No module named 'requests'"
     ]
    }
   ],
   "source": [
    "import requests"
   ]
  },
  {
   "cell_type": "markdown",
   "metadata": {},
   "source": [
    "Если у тебя здесь ошибка, всё норм. Нужно установить библиотеку requests. (Знак доллара обозначает cmd, я устанавливал от имени администратора.)\n",
    "\n",
    "```bash\n",
    "$ pip install requests\n",
    "```"
   ]
  },
  {
   "cell_type": "code",
   "execution_count": 62,
   "metadata": {},
   "outputs": [
    {
     "name": "stdout",
     "output_type": "stream",
     "text": [
      "Evolution of Dance - By Judson Laipply\n",
      "Linkin Park - Numb\n",
      "Potter Puppet Pals: The Mysterious Ticking Noise\n",
      "\"Chocolate Rain Original\" Song by Tay Zonday\n",
      "Charlie bit my finger - again !\n",
      "The Mean Kitty Song\n"
     ]
    }
   ],
   "source": [
    "import requests\n",
    "\n",
    "url = \"https://raw.githubusercontent.com/koki0702/introducing-python/master/dummy_api/youTube_top_rated.json\"\n",
    "\n",
    "response = requests.get(url)\n",
    "data = response.json()\n",
    "\n",
    "for video in data['feed']['entry'][0:6]:\n",
    "    print(video['title']['$t'])"
   ]
  },
  {
   "cell_type": "code",
   "execution_count": 63,
   "metadata": {},
   "outputs": [
    {
     "data": {
      "text/plain": [
       "<Response [200]>"
      ]
     },
     "execution_count": 63,
     "metadata": {},
     "output_type": "execute_result"
    }
   ],
   "source": [
    "# response = requests.get(url)\n",
    "response"
   ]
  },
  {
   "cell_type": "markdown",
   "metadata": {},
   "source": [
    "Какой-то объект, который хранит в себе и ответ-строку, и HTTP-код ответа 200 (OK).\n",
    "\n",
    "![](http://i.imgur.com/aylkANL.png)"
   ]
  },
  {
   "cell_type": "code",
   "execution_count": 64,
   "metadata": {},
   "outputs": [
    {
     "data": {
      "text/plain": [
       "{'feed': {'entry': [{'title': {'$t': 'Evolution of Dance - By Judson Laipply'}},\n",
       "   {'title': {'$t': 'Linkin Park - Numb'}},\n",
       "   {'title': {'$t': 'Potter Puppet Pals: The Mysterious Ticking Noise'}},\n",
       "   {'title': {'$t': '\"Chocolate Rain Original\" Song by Tay Zonday'}},\n",
       "   {'title': {'$t': 'Charlie bit my finger - again !'}},\n",
       "   {'title': {'$t': 'The Mean Kitty Song'}}]}}"
      ]
     },
     "execution_count": 64,
     "metadata": {},
     "output_type": "execute_result"
    }
   ],
   "source": [
    "# data = response.json()\n",
    "data"
   ]
  },
  {
   "cell_type": "markdown",
   "metadata": {},
   "source": [
    "Уже знакомые нам данные. Остальной код такой же.\n",
    "\n",
    "### Вывод\n",
    "\n",
    "Пользоваться второй библиотекой проще, потому что она понятнее. Можно было даже написать всё в одну строку (разбил для чуть лучшего понимания):"
   ]
  },
  {
   "cell_type": "code",
   "execution_count": 77,
   "metadata": {
    "scrolled": true
   },
   "outputs": [
    {
     "name": "stdout",
     "output_type": "stream",
     "text": [
      "Evolution of Dance - By Judson Laipply\n",
      "Linkin Park - Numb\n",
      "Potter Puppet Pals: The Mysterious Ticking Noise\n",
      "\"Chocolate Rain Original\" Song by Tay Zonday\n",
      "Charlie bit my finger - again !\n",
      "The Mean Kitty Song\n"
     ]
    }
   ],
   "source": [
    "_ = list(map(print, [\n",
    "      v['title']['$t'] for v in\n",
    "           requests.get(url).json()['feed']['entry']]))"
   ]
  },
  {
   "cell_type": "markdown",
   "metadata": {},
   "source": [
    "Тут я использовал генератор списков, `map` чтобы применить `print`. Для сравнения:\n",
    "\n",
    "```python\n",
    "response = requests.get(url)\n",
    "data = response.json()\n",
    "\n",
    "for video in data['feed']['entry'][0:6]:\n",
    "    print(video['title']['$t'])\n",
    "```\n",
    "\n",
    "↑ мне нравится больше, проще читать и понимать."
   ]
  },
  {
   "cell_type": "markdown",
   "metadata": {},
   "source": [
    "### Задание\n",
    "\n",
    "В интернетах я нашёл API для погоды: https://www.metaweather.com/api/. \n",
    "\n",
    "Описание сервиса-сайта:\n",
    "\n",
    "> MetaWeather provides an API that delivers JSON over HTTPS for access to our data.\n",
    "\n",
    "Что вообще даёт этот сервис:\n",
    "\n",
    "<img src=\"http://i.imgur.com/ic9RlBf.png\" width=\"400\" style=\"margin-left:0\">\n",
    "\n",
    "Дальше идут примеры. Например, если обратиться по адресу [`https://www.metaweather.com/api/location/search/?query=london`](https://www.metaweather.com/api/location/search/?query=london), то получишь примерно такой список:\n",
    "\n",
    "```js\n",
    "[{\"title\":\"London\",\"location_type\":\"City\",\"woeid\":44418,\"latt_long\":\"51.506321,-0.12714\"}]\n",
    "```\n",
    "\n",
    "Список может быть пустым или содержать городов больше одного.\n",
    "\n",
    "Главное в этом словаре — woeid, который можно использовать в другом запросе: [`https://www.metaweather.com/api/location/44418/`](https://www.metaweather.com/api/location/44418/).\n",
    "\n",
    "Внутри поля `consolidated_weather` есть список вот таких словарей:\n",
    "\n",
    "```js\n",
    "{\n",
    "  \"id\": 4736170084794368,\n",
    "  \"weather_state_name\": \"Light Rain\",\n",
    "  \"weather_state_abbr\": \"lr\",\n",
    "  \"wind_direction_compass\": \"WSW\",\n",
    "  \"created\": \"2017-06-01T20:07:02.864040Z\",\n",
    "  \"applicable_date\": \"2017-06-02\",\n",
    "  \"min_temp\": 14.395714285714286,\n",
    "  \"max_temp\": 23.204285714285714,\n",
    "  \"the_temp\": 21.573333333333334,\n",
    "  \"wind_speed\": 5.497677255030622,\n",
    "  \"wind_direction\": 241.6612799507309,\n",
    "  \"air_pressure\": 1017.5899999999999,\n",
    "  \"humidity\": 64,\n",
    "  \"visibility\": 10.03576612582518,\n",
    "  \"predictability\": 75\n",
    "}\n",
    "```\n",
    "\n",
    "В нём нужно текстовое описание `weather_state_name` и `the_temp`, описывающее температуру.\n",
    "\n",
    "**Задание**: написать скрипт (на основе requests), который будет забирать данные о погоде в Ростове или Москве и выводить их."
   ]
  },
  {
   "cell_type": "code",
   "execution_count": 95,
   "metadata": {
    "collapsed": true
   },
   "outputs": [],
   "source": [
    "# Your code here"
   ]
  }
 ],
 "metadata": {
  "kernelspec": {
   "display_name": "Python 3",
   "language": "python",
   "name": "python3"
  },
  "language_info": {
   "codemirror_mode": {
    "name": "ipython",
    "version": 3
   },
   "file_extension": ".py",
   "mimetype": "text/x-python",
   "name": "python",
   "nbconvert_exporter": "python",
   "pygments_lexer": "ipython3",
   "version": "3.6.1"
  }
 },
 "nbformat": 4,
 "nbformat_minor": 2
}
