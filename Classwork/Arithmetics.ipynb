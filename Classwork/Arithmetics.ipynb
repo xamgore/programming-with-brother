{
 "cells": [
  {
   "cell_type": "markdown",
   "metadata": {},
   "source": [
    "Дана строка — арифметическое выражение. Используются целые числа. И операторы `+-*/^%!` и `()`. Нужно вычислить его."
   ]
  },
  {
   "cell_type": "code",
   "execution_count": 2,
   "metadata": {
    "collapsed": true
   },
   "outputs": [],
   "source": [
    "s = \"27 +  2\""
   ]
  },
  {
   "cell_type": "code",
   "execution_count": 94,
   "metadata": {
    "collapsed": true
   },
   "outputs": [],
   "source": [
    "digits = \"0123456789\"\n",
    "operators = \"+-*/^%!\"\n",
    "spaces = \" \\t\\n\"\n",
    "priority = { '+': 0, '-': 0, '*': 1, '/': 1, '%': 1, '^': 2, '!': 2, '(':  }"
   ]
  },
  {
   "cell_type": "code",
   "execution_count": 6,
   "metadata": {},
   "outputs": [
    {
     "data": {
      "text/plain": [
       "False"
      ]
     },
     "execution_count": 6,
     "metadata": {},
     "output_type": "execute_result"
    }
   ],
   "source": [
    "\" \" in digits"
   ]
  },
  {
   "cell_type": "code",
   "execution_count": 75,
   "metadata": {},
   "outputs": [
    {
     "data": {
      "text/plain": [
       "['2', '1', ' ', ' ', '\\n', ' ', '*', ' ', '4', '7', ' ', '+', ' ', '3']"
      ]
     },
     "execution_count": 75,
     "metadata": {},
     "output_type": "execute_result"
    }
   ],
   "source": [
    "EOF = '\\0000'\n",
    "s, idx, ch = \"\", -1, \"\"\n",
    "\n",
    "def reset(exp = \"21  \\n * 47 + 3\"):\n",
    "    global s, idx, ch\n",
    "    s = exp\n",
    "    idx = -1\n",
    "    ch = \"\"\n",
    "\n",
    "def nextChar():\n",
    "    global s, idx, ch\n",
    "    \n",
    "    idx += 1\n",
    "    ch = s[idx] if idx < len(s) else EOF\n",
    "    return ch\n",
    "\n",
    "reset()\n",
    "[ nextChar() for i in range(0, len(s)) ]"
   ]
  },
  {
   "cell_type": "code",
   "execution_count": 76,
   "metadata": {},
   "outputs": [
    {
     "data": {
      "text/plain": [
       "21"
      ]
     },
     "execution_count": 76,
     "metadata": {},
     "output_type": "execute_result"
    }
   ],
   "source": [
    "# ch уже должно быть цифрой\n",
    "def parseInt():\n",
    "    global s, ch\n",
    "    \n",
    "    num = \"\"\n",
    "    while ch in digits:\n",
    "        num += ch\n",
    "        nextChar()\n",
    "        \n",
    "    return int(num)\n",
    "        \n",
    "\n",
    "reset()\n",
    "nextChar()\n",
    "parseInt()"
   ]
  },
  {
   "cell_type": "code",
   "execution_count": 63,
   "metadata": {},
   "outputs": [
    {
     "data": {
      "text/plain": [
       "'*'"
      ]
     },
     "execution_count": 63,
     "metadata": {},
     "output_type": "execute_result"
    }
   ],
   "source": [
    "def skipSpaces():\n",
    "    global s, ch\n",
    "    \n",
    "    while ch in spaces:\n",
    "        nextChar()\n",
    "        \n",
    "skipSpaces(); ch"
   ]
  },
  {
   "cell_type": "code",
   "execution_count": 96,
   "metadata": {},
   "outputs": [
    {
     "data": {
      "text/plain": [
       "[21, '*', '(', 47, '+', 3, ')']"
      ]
     },
     "execution_count": 96,
     "metadata": {},
     "output_type": "execute_result"
    }
   ],
   "source": [
    "def parse():\n",
    "    global s, ch\n",
    "    tokens = []\n",
    "    \n",
    "    while ch != EOF:\n",
    "        skipSpaces()\n",
    "        \n",
    "        if ch in digits:\n",
    "            tokens.append(parseInt())\n",
    "            \n",
    "        elif ch in operators:\n",
    "            tokens.append(ch)\n",
    "            nextChar()\n",
    "            \n",
    "        elif ch in \"()\":\n",
    "            tokens.append(ch)\n",
    "            nextChar()\n",
    "            \n",
    "        else:\n",
    "            nextChar()\n",
    "            \n",
    "    return tokens\n",
    "\n",
    "reset(\"   21  \\n   *   (  47 + 3   )   \")\n",
    "parse()"
   ]
  },
  {
   "cell_type": "code",
   "execution_count": 110,
   "metadata": {},
   "outputs": [],
   "source": [
    "def toPoliz(tokens):   \n",
    "    res = []\n",
    "    stack = []\n",
    "\n",
    "    for t in tokens:\n",
    "        if type(t) == int:\n",
    "            res.append(t)\n",
    "\n",
    "        elif t in operators:\n",
    "            while len(stack) > 0 and (stack[-1] in operators) and priority[t] <= priority[stack[-1]]:\n",
    "                res.append(stack.pop())\n",
    "\n",
    "            stack.append(t)\n",
    "\n",
    "        elif t == '(':\n",
    "            stack.append(t)\n",
    "\n",
    "        elif t == ')':\n",
    "            while len(stack) > 0:\n",
    "                el = stack.pop()\n",
    "                if el == '(': break\n",
    "                res.append(el)\n",
    "                # todo catch error\n",
    "                \n",
    "        print(t, res, stack)\n",
    "\n",
    "    while len(stack) > 0:\n",
    "        res.append(stack.pop())\n",
    "\n",
    "    return res"
   ]
  },
  {
   "cell_type": "code",
   "execution_count": 115,
   "metadata": {},
   "outputs": [
    {
     "name": "stdout",
     "output_type": "stream",
     "text": [
      "( [] ['(']\n",
      "21 [21] ['(']\n",
      "+ [21] ['(', '+']\n",
      "9 [21, 9] ['(', '+']\n",
      "! [21, 9] ['(', '+', '!']\n",
      ") [21, 9, '!', '+'] []\n",
      "* [21, 9, '!', '+'] ['*']\n",
      "( [21, 9, '!', '+'] ['*', '(']\n",
      "47 [21, 9, '!', '+', 47] ['*', '(']\n",
      "+ [21, 9, '!', '+', 47] ['*', '(', '+']\n",
      "3 [21, 9, '!', '+', 47, 3] ['*', '(', '+']\n",
      ") [21, 9, '!', '+', 47, 3, '+'] ['*']\n"
     ]
    },
    {
     "data": {
      "text/plain": [
       "[21, 9, '!', '+', 47, 3, '+', '*']"
      ]
     },
     "execution_count": 115,
     "metadata": {},
     "output_type": "execute_result"
    }
   ],
   "source": [
    "reset(\"   (21 + 9!)  \\n   *   (  47 + 3   )   \")\n",
    "tokens = parse()\n",
    "poliz = toPoliz(tokens)\n",
    "poliz"
   ]
  },
  {
   "cell_type": "code",
   "execution_count": 119,
   "metadata": {},
   "outputs": [
    {
     "data": {
      "text/plain": [
       "1500"
      ]
     },
     "execution_count": 119,
     "metadata": {},
     "output_type": "execute_result"
    }
   ],
   "source": [
    "st = []\n",
    "\n",
    "acts = {\n",
    "    '+': lambda x, y: x + y,\n",
    "    '-': lambda x, y: x - y,\n",
    "    '*': lambda x, y: x * y,\n",
    "    '/': lambda x, y: x / y,\n",
    "    '%': lambda x, y: x % y,\n",
    "    '^': lambda x, y: x ^ y,    \n",
    "}\n",
    "\n",
    "for t in poliz:\n",
    "    if type(t) == int:\n",
    "        st.append(t)\n",
    "    else:\n",
    "        if t == '!':\n",
    "            op = st.pop()\n",
    "            res = op  # compute factorial\n",
    "        \n",
    "        else:\n",
    "            op1 = st.pop()\n",
    "            op2 = st.pop()\n",
    "            res = acts[t](op1, op2)\n",
    "        \n",
    "        st.append(res)\n",
    "        \n",
    "st[0]"
   ]
  }
 ],
 "metadata": {
  "kernelspec": {
   "display_name": "Python 3",
   "language": "python",
   "name": "python3"
  },
  "language_info": {
   "codemirror_mode": {
    "name": "ipython",
    "version": 3
   },
   "file_extension": ".py",
   "mimetype": "text/x-python",
   "name": "python",
   "nbconvert_exporter": "python",
   "pygments_lexer": "ipython3",
   "version": "3.6.1"
  }
 },
 "nbformat": 4,
 "nbformat_minor": 2
}
