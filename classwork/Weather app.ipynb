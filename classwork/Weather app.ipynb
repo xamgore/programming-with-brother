{
 "cells": [
  {
   "cell_type": "code",
   "execution_count": 1,
   "metadata": {
    "collapsed": true
   },
   "outputs": [],
   "source": [
    "import requests, json"
   ]
  },
  {
   "cell_type": "code",
   "execution_count": 49,
   "metadata": {},
   "outputs": [
    {
     "name": "stdout",
     "output_type": "stream",
     "text": [
      "moscow\n"
     ]
    },
    {
     "data": {
      "text/plain": [
       "[{'latt_long': '55.756950,37.614971',\n",
       "  'location_type': 'City',\n",
       "  'title': 'Moscow',\n",
       "  'woeid': 2122265}]"
      ]
     },
     "execution_count": 49,
     "metadata": {},
     "output_type": "execute_result"
    }
   ],
   "source": [
    "adresses = 'https://www.metaweather.com/api/location/search/?query='\n",
    "town = input()\n",
    "location = adresses + town\n",
    "\n",
    "loc = requests.get(location).json()\n",
    "loc"
   ]
  },
  {
   "cell_type": "code",
   "execution_count": 50,
   "metadata": {},
   "outputs": [
    {
     "data": {
      "text/plain": [
       "{'latt_long': '55.756950,37.614971',\n",
       " 'location_type': 'City',\n",
       " 'title': 'Moscow',\n",
       " 'woeid': 2122265}"
      ]
     },
     "execution_count": 50,
     "metadata": {},
     "output_type": "execute_result"
    }
   ],
   "source": [
    "info = loc[0]; info"
   ]
  },
  {
   "cell_type": "code",
   "execution_count": 51,
   "metadata": {},
   "outputs": [
    {
     "data": {
      "text/plain": [
       "2122265"
      ]
     },
     "execution_count": 51,
     "metadata": {},
     "output_type": "execute_result"
    }
   ],
   "source": [
    "weatherid = info['woeid']; weatherid"
   ]
  },
  {
   "cell_type": "code",
   "execution_count": 55,
   "metadata": {},
   "outputs": [
    {
     "data": {
      "text/plain": [
       "{'consolidated_weather': [{'air_pressure': 1018.4549999999999,\n",
       "   'applicable_date': '2017-06-09',\n",
       "   'created': '2017-06-09T11:11:18.711440Z',\n",
       "   'humidity': 75,\n",
       "   'id': 6313300396605440,\n",
       "   'max_temp': 17.111666666666668,\n",
       "   'min_temp': 11.818333333333333,\n",
       "   'predictability': 71,\n",
       "   'the_temp': 15.813333333333333,\n",
       "   'visibility': 15.368063012009863,\n",
       "   'weather_state_abbr': 'hc',\n",
       "   'weather_state_name': 'Heavy Cloud',\n",
       "   'wind_direction': 270.2476442006571,\n",
       "   'wind_direction_compass': 'W',\n",
       "   'wind_speed': 11.077423863509106},\n",
       "  {'air_pressure': 1018.1600000000001,\n",
       "   'applicable_date': '2017-06-10',\n",
       "   'created': '2017-06-09T11:11:21.852240Z',\n",
       "   'humidity': 75,\n",
       "   'id': 6316876762185728,\n",
       "   'max_temp': 16.031666666666666,\n",
       "   'min_temp': 10.761666666666665,\n",
       "   'predictability': 70,\n",
       "   'the_temp': 15.26,\n",
       "   'visibility': 14.467385468861847,\n",
       "   'weather_state_abbr': 'lc',\n",
       "   'weather_state_name': 'Light Cloud',\n",
       "   'wind_direction': 271.28459353405583,\n",
       "   'wind_direction_compass': 'W',\n",
       "   'wind_speed': 11.738591298429172},\n",
       "  {'air_pressure': 1018.06,\n",
       "   'applicable_date': '2017-06-11',\n",
       "   'created': '2017-06-09T11:11:25.047650Z',\n",
       "   'humidity': 71,\n",
       "   'id': 4948531857063936,\n",
       "   'max_temp': 16.080000000000002,\n",
       "   'min_temp': 10.526666666666666,\n",
       "   'predictability': 71,\n",
       "   'the_temp': 14.996666666666668,\n",
       "   'visibility': 15.666321184283783,\n",
       "   'weather_state_abbr': 'hc',\n",
       "   'weather_state_name': 'Heavy Cloud',\n",
       "   'wind_direction': 274.9652269924221,\n",
       "   'wind_direction_compass': 'W',\n",
       "   'wind_speed': 13.128389142391102},\n",
       "  {'air_pressure': 1016.53,\n",
       "   'applicable_date': '2017-06-12',\n",
       "   'created': '2017-06-09T11:11:27.326520Z',\n",
       "   'humidity': 66,\n",
       "   'id': 5779930889584640,\n",
       "   'max_temp': 17.194999999999997,\n",
       "   'min_temp': 9.763333333333334,\n",
       "   'predictability': 71,\n",
       "   'the_temp': 16.31,\n",
       "   'visibility': 15.53894008987513,\n",
       "   'weather_state_abbr': 'hc',\n",
       "   'weather_state_name': 'Heavy Cloud',\n",
       "   'wind_direction': 283.6868034431757,\n",
       "   'wind_direction_compass': 'WNW',\n",
       "   'wind_speed': 11.835602703697077},\n",
       "  {'air_pressure': 1016.81,\n",
       "   'applicable_date': '2017-06-13',\n",
       "   'created': '2017-06-09T11:11:30.704460Z',\n",
       "   'humidity': 65,\n",
       "   'id': 4540591568322560,\n",
       "   'max_temp': 19.218333333333334,\n",
       "   'min_temp': 9.57,\n",
       "   'predictability': 70,\n",
       "   'the_temp': 17.87,\n",
       "   'visibility': 21.75669092499801,\n",
       "   'weather_state_abbr': 'lc',\n",
       "   'weather_state_name': 'Light Cloud',\n",
       "   'wind_direction': 286.467250945266,\n",
       "   'wind_direction_compass': 'WNW',\n",
       "   'wind_speed': 9.572120927095098},\n",
       "  {'air_pressure': 1014.22,\n",
       "   'applicable_date': '2017-06-14',\n",
       "   'created': '2017-06-09T11:11:33.633810Z',\n",
       "   'humidity': 68,\n",
       "   'id': 6039865598672896,\n",
       "   'max_temp': 20.723333333333333,\n",
       "   'min_temp': 10.33,\n",
       "   'predictability': 70,\n",
       "   'the_temp': 18.625,\n",
       "   'visibility': None,\n",
       "   'weather_state_abbr': 'lc',\n",
       "   'weather_state_name': 'Light Cloud',\n",
       "   'wind_direction': 261.75528217410425,\n",
       "   'wind_direction_compass': 'W',\n",
       "   'wind_speed': 8.693556509981708}],\n",
       " 'latt_long': '37.777119, -122.41964',\n",
       " 'location_type': 'City',\n",
       " 'parent': {'latt_long': '37.271881,-119.270233',\n",
       "  'location_type': 'Region / State / Province',\n",
       "  'title': 'California',\n",
       "  'woeid': 2347563},\n",
       " 'sources': [{'crawl_rate': 180,\n",
       "   'slug': 'bbc',\n",
       "   'title': 'BBC',\n",
       "   'url': 'http://www.bbc.co.uk/weather/'},\n",
       "  {'crawl_rate': 480,\n",
       "   'slug': 'forecast-io',\n",
       "   'title': 'Forecast.io',\n",
       "   'url': 'http://forecast.io/'},\n",
       "  {'crawl_rate': 360,\n",
       "   'slug': 'hamweather',\n",
       "   'title': 'HAMweather',\n",
       "   'url': 'http://www.hamweather.com/'},\n",
       "  {'crawl_rate': 180,\n",
       "   'slug': 'met-office',\n",
       "   'title': 'Met Office',\n",
       "   'url': 'http://www.metoffice.gov.uk/'},\n",
       "  {'crawl_rate': 360,\n",
       "   'slug': 'openweathermap',\n",
       "   'title': 'OpenWeatherMap',\n",
       "   'url': 'http://openweathermap.org/'},\n",
       "  {'crawl_rate': 720,\n",
       "   'slug': 'wunderground',\n",
       "   'title': 'Weather Underground',\n",
       "   'url': 'https://www.wunderground.com/?apiref=fc30dc3cd224e19b'},\n",
       "  {'crawl_rate': 360,\n",
       "   'slug': 'world-weather-online',\n",
       "   'title': 'World Weather Online',\n",
       "   'url': 'http://www.worldweatheronline.com/'},\n",
       "  {'crawl_rate': 180,\n",
       "   'slug': 'yahoo',\n",
       "   'title': 'Yahoo',\n",
       "   'url': 'http://weather.yahoo.com/'}],\n",
       " 'sun_rise': '2017-06-09T05:47:24.377403-07:00',\n",
       " 'sun_set': '2017-06-09T20:30:22.498721-07:00',\n",
       " 'time': '2017-06-09T06:43:36.093250-07:00',\n",
       " 'timezone': 'US/Pacific',\n",
       " 'timezone_name': 'LMT',\n",
       " 'title': 'San Francisco',\n",
       " 'woeid': 2487956}"
      ]
     },
     "execution_count": 55,
     "metadata": {},
     "output_type": "execute_result"
    }
   ],
   "source": [
    "something = 'https://www.metaweather.com/api/location/2487956/.'\n",
    "\n",
    "anything = requests.get(something).json()\n",
    "anything"
   ]
  },
  {
   "cell_type": "code",
   "execution_count": 56,
   "metadata": {},
   "outputs": [
    {
     "data": {
      "text/plain": [
       "[{'air_pressure': 1018.4549999999999,\n",
       "  'applicable_date': '2017-06-09',\n",
       "  'created': '2017-06-09T11:11:18.711440Z',\n",
       "  'humidity': 75,\n",
       "  'id': 6313300396605440,\n",
       "  'max_temp': 17.111666666666668,\n",
       "  'min_temp': 11.818333333333333,\n",
       "  'predictability': 71,\n",
       "  'the_temp': 15.813333333333333,\n",
       "  'visibility': 15.368063012009863,\n",
       "  'weather_state_abbr': 'hc',\n",
       "  'weather_state_name': 'Heavy Cloud',\n",
       "  'wind_direction': 270.2476442006571,\n",
       "  'wind_direction_compass': 'W',\n",
       "  'wind_speed': 11.077423863509106},\n",
       " {'air_pressure': 1018.1600000000001,\n",
       "  'applicable_date': '2017-06-10',\n",
       "  'created': '2017-06-09T11:11:21.852240Z',\n",
       "  'humidity': 75,\n",
       "  'id': 6316876762185728,\n",
       "  'max_temp': 16.031666666666666,\n",
       "  'min_temp': 10.761666666666665,\n",
       "  'predictability': 70,\n",
       "  'the_temp': 15.26,\n",
       "  'visibility': 14.467385468861847,\n",
       "  'weather_state_abbr': 'lc',\n",
       "  'weather_state_name': 'Light Cloud',\n",
       "  'wind_direction': 271.28459353405583,\n",
       "  'wind_direction_compass': 'W',\n",
       "  'wind_speed': 11.738591298429172},\n",
       " {'air_pressure': 1018.06,\n",
       "  'applicable_date': '2017-06-11',\n",
       "  'created': '2017-06-09T11:11:25.047650Z',\n",
       "  'humidity': 71,\n",
       "  'id': 4948531857063936,\n",
       "  'max_temp': 16.080000000000002,\n",
       "  'min_temp': 10.526666666666666,\n",
       "  'predictability': 71,\n",
       "  'the_temp': 14.996666666666668,\n",
       "  'visibility': 15.666321184283783,\n",
       "  'weather_state_abbr': 'hc',\n",
       "  'weather_state_name': 'Heavy Cloud',\n",
       "  'wind_direction': 274.9652269924221,\n",
       "  'wind_direction_compass': 'W',\n",
       "  'wind_speed': 13.128389142391102},\n",
       " {'air_pressure': 1016.53,\n",
       "  'applicable_date': '2017-06-12',\n",
       "  'created': '2017-06-09T11:11:27.326520Z',\n",
       "  'humidity': 66,\n",
       "  'id': 5779930889584640,\n",
       "  'max_temp': 17.194999999999997,\n",
       "  'min_temp': 9.763333333333334,\n",
       "  'predictability': 71,\n",
       "  'the_temp': 16.31,\n",
       "  'visibility': 15.53894008987513,\n",
       "  'weather_state_abbr': 'hc',\n",
       "  'weather_state_name': 'Heavy Cloud',\n",
       "  'wind_direction': 283.6868034431757,\n",
       "  'wind_direction_compass': 'WNW',\n",
       "  'wind_speed': 11.835602703697077},\n",
       " {'air_pressure': 1016.81,\n",
       "  'applicable_date': '2017-06-13',\n",
       "  'created': '2017-06-09T11:11:30.704460Z',\n",
       "  'humidity': 65,\n",
       "  'id': 4540591568322560,\n",
       "  'max_temp': 19.218333333333334,\n",
       "  'min_temp': 9.57,\n",
       "  'predictability': 70,\n",
       "  'the_temp': 17.87,\n",
       "  'visibility': 21.75669092499801,\n",
       "  'weather_state_abbr': 'lc',\n",
       "  'weather_state_name': 'Light Cloud',\n",
       "  'wind_direction': 286.467250945266,\n",
       "  'wind_direction_compass': 'WNW',\n",
       "  'wind_speed': 9.572120927095098},\n",
       " {'air_pressure': 1014.22,\n",
       "  'applicable_date': '2017-06-14',\n",
       "  'created': '2017-06-09T11:11:33.633810Z',\n",
       "  'humidity': 68,\n",
       "  'id': 6039865598672896,\n",
       "  'max_temp': 20.723333333333333,\n",
       "  'min_temp': 10.33,\n",
       "  'predictability': 70,\n",
       "  'the_temp': 18.625,\n",
       "  'visibility': None,\n",
       "  'weather_state_abbr': 'lc',\n",
       "  'weather_state_name': 'Light Cloud',\n",
       "  'wind_direction': 261.75528217410425,\n",
       "  'wind_direction_compass': 'W',\n",
       "  'wind_speed': 8.693556509981708}]"
      ]
     },
     "execution_count": 56,
     "metadata": {},
     "output_type": "execute_result"
    }
   ],
   "source": [
    "fullinfo = anything['consolidated_weather']\n",
    "fullinfo\n"
   ]
  },
  {
   "cell_type": "code",
   "execution_count": 57,
   "metadata": {},
   "outputs": [
    {
     "data": {
      "text/plain": [
       "{'air_pressure': 1018.4549999999999,\n",
       " 'applicable_date': '2017-06-09',\n",
       " 'created': '2017-06-09T11:11:18.711440Z',\n",
       " 'humidity': 75,\n",
       " 'id': 6313300396605440,\n",
       " 'max_temp': 17.111666666666668,\n",
       " 'min_temp': 11.818333333333333,\n",
       " 'predictability': 71,\n",
       " 'the_temp': 15.813333333333333,\n",
       " 'visibility': 15.368063012009863,\n",
       " 'weather_state_abbr': 'hc',\n",
       " 'weather_state_name': 'Heavy Cloud',\n",
       " 'wind_direction': 270.2476442006571,\n",
       " 'wind_direction_compass': 'W',\n",
       " 'wind_speed': 11.077423863509106}"
      ]
     },
     "execution_count": 57,
     "metadata": {},
     "output_type": "execute_result"
    }
   ],
   "source": [
    "nextinfo = fullinfo[0]; nextinfo"
   ]
  },
  {
   "cell_type": "code",
   "execution_count": 58,
   "metadata": {},
   "outputs": [
    {
     "data": {
      "text/plain": [
       "{'day': '2017-06-09', 'temp': 15.813333333333333, 'wind': 11.077423863509106}"
      ]
     },
     "execution_count": 58,
     "metadata": {},
     "output_type": "execute_result"
    }
   ],
   "source": [
    "{\n",
    "    'day': nextinfo['applicable_date'],\n",
    "    'temp': nextinfo['the_temp'],\n",
    "    'wind': nextinfo['wind_speed']\n",
    "}"
   ]
  },
  {
   "cell_type": "code",
   "execution_count": 59,
   "metadata": {},
   "outputs": [
    {
     "data": {
      "text/plain": [
       "6"
      ]
     },
     "execution_count": 59,
     "metadata": {},
     "output_type": "execute_result"
    }
   ],
   "source": [
    "len(fullinfo)"
   ]
  },
  {
   "cell_type": "code",
   "execution_count": 60,
   "metadata": {},
   "outputs": [
    {
     "data": {
      "text/plain": [
       "[{'day': '2017-06-09', 'temp': 15.813333333333333, 'wind': 11.077423863509106},\n",
       " {'day': '2017-06-10', 'temp': 15.26, 'wind': 11.738591298429172},\n",
       " {'day': '2017-06-11', 'temp': 14.996666666666668, 'wind': 13.128389142391102},\n",
       " {'day': '2017-06-12', 'temp': 16.31, 'wind': 11.835602703697077},\n",
       " {'day': '2017-06-13', 'temp': 17.87, 'wind': 9.572120927095098},\n",
       " {'day': '2017-06-14', 'temp': 18.625, 'wind': 8.693556509981708}]"
      ]
     },
     "execution_count": 60,
     "metadata": {},
     "output_type": "execute_result"
    }
   ],
   "source": [
    "list(map(lambda x: { \n",
    "    'day': x['applicable_date'],\n",
    "    'temp': x['the_temp'],\n",
    "    'wind': x['wind_speed']\n",
    "    }, fullinfo))"
   ]
  },
  {
   "cell_type": "code",
   "execution_count": null,
   "metadata": {},
   "outputs": [],
   "source": [
    "adresses = 'https://www.metaweather.com/api/location/search/?query='\n",
    "town = input()"
   ]
  },
  {
   "cell_type": "code",
   "execution_count": 44,
   "metadata": {},
   "outputs": [],
   "source": [
    "fff = adresses + town"
   ]
  },
  {
   "cell_type": "code",
   "execution_count": 45,
   "metadata": {},
   "outputs": [
    {
     "data": {
      "text/plain": [
       "'https://www.metaweather.com/api/location/search/?query=rostov'"
      ]
     },
     "execution_count": 45,
     "metadata": {},
     "output_type": "execute_result"
    }
   ],
   "source": []
  }
 ],
 "metadata": {
  "kernelspec": {
   "display_name": "Python 3",
   "language": "python",
   "name": "python3"
  },
  "language_info": {
   "codemirror_mode": {
    "name": "ipython",
    "version": 3
   },
   "file_extension": ".py",
   "mimetype": "text/x-python",
   "name": "python",
   "nbconvert_exporter": "python",
   "pygments_lexer": "ipython3",
   "version": "3.6.1"
  }
 },
 "nbformat": 4,
 "nbformat_minor": 2
}
