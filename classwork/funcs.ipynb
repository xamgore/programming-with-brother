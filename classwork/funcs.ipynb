{
 "cells": [
  {
   "cell_type": "code",
   "execution_count": 7,
   "metadata": {},
   "outputs": [],
   "source": [
    "def hello(n, sn='', patr=''):\n",
    "    print('hello, ' + n + sn + patr)"
   ]
  },
  {
   "cell_type": "code",
   "execution_count": 8,
   "metadata": {},
   "outputs": [
    {
     "name": "stdout",
     "output_type": "stream",
     "text": [
      "hello, Max\n"
     ]
    }
   ],
   "source": [
    "hello('Max')"
   ]
  },
  {
   "cell_type": "code",
   "execution_count": 13,
   "metadata": {
    "collapsed": true
   },
   "outputs": [],
   "source": [
    "def mean(n1 = []):\n",
    "    aver = 0\n",
    "    for n in n1:\n",
    "        aver += n\n",
    "    return aver/len(n1)"
   ]
  },
  {
   "cell_type": "code",
   "execution_count": 14,
   "metadata": {},
   "outputs": [
    {
     "data": {
      "text/plain": [
       "6.0"
      ]
     },
     "execution_count": 14,
     "metadata": {},
     "output_type": "execute_result"
    }
   ],
   "source": [
    "mean([10, 5, 3])"
   ]
  },
  {
   "cell_type": "code",
   "execution_count": 15,
   "metadata": {
    "collapsed": true
   },
   "outputs": [],
   "source": [
    "# mean2(10, 5, 3, 4, 5)"
   ]
  },
  {
   "cell_type": "code",
   "execution_count": 70,
   "metadata": {},
   "outputs": [],
   "source": [
    "def mean2(*args):\n",
    "    aver = list(args)       \n",
    "    return mean(aver)"
   ]
  },
  {
   "cell_type": "code",
   "execution_count": 71,
   "metadata": {},
   "outputs": [
    {
     "data": {
      "text/plain": [
       "37.333333333333336"
      ]
     },
     "execution_count": 71,
     "metadata": {},
     "output_type": "execute_result"
    }
   ],
   "source": [
    "mean2(3, 14, 15, 92, 65, 35)"
   ]
  },
  {
   "cell_type": "markdown",
   "metadata": {},
   "source": []
  },
  {
   "cell_type": "code",
   "execution_count": 41,
   "metadata": {
    "collapsed": true
   },
   "outputs": [],
   "source": [
    "def means3(n1, n2 = 0, *args):\n",
    "    print(n1)\n",
    "    print(n2)\n",
    "    print(*args)"
   ]
  },
  {
   "cell_type": "code",
   "execution_count": 76,
   "metadata": {},
   "outputs": [
    {
     "data": {
      "text/plain": [
       "6.4"
      ]
     },
     "execution_count": 76,
     "metadata": {},
     "output_type": "execute_result"
    }
   ],
   "source": [
    "mean2(*[3, 5, 7, 8, 9]) #  mean2(3, 5, 7, 8, 9)"
   ]
  },
  {
   "cell_type": "code",
   "execution_count": 43,
   "metadata": {
    "collapsed": true
   },
   "outputs": [],
   "source": [
    "# mean2([10, 5, 3])"
   ]
  },
  {
   "cell_type": "code",
   "execution_count": 72,
   "metadata": {},
   "outputs": [
    {
     "data": {
      "text/plain": [
       "6.0"
      ]
     },
     "execution_count": 72,
     "metadata": {},
     "output_type": "execute_result"
    }
   ],
   "source": [
    "arr = [10, 5, 3]\n",
    "mean2(*arr)"
   ]
  },
  {
   "cell_type": "code",
   "execution_count": 74,
   "metadata": {},
   "outputs": [
    {
     "data": {
      "text/plain": [
       "6.5"
      ]
     },
     "execution_count": 74,
     "metadata": {},
     "output_type": "execute_result"
    }
   ],
   "source": [
    "mean2(*[10, 5, 3, 8])"
   ]
  },
  {
   "cell_type": "code",
   "execution_count": 65,
   "metadata": {},
   "outputs": [
    {
     "data": {
      "text/plain": [
       "'---.----    ...---...'"
      ]
     },
     "execution_count": 65,
     "metadata": {},
     "output_type": "execute_result"
    }
   ],
   "source": [
    "'    '.join([\"---.----\", \"...---...\"])"
   ]
  },
  {
   "cell_type": "code",
   "execution_count": 58,
   "metadata": {},
   "outputs": [
    {
     "name": "stdout",
     "output_type": "stream",
     "text": [
      "('---.----', '...---...')\n",
      "    ++++ \n"
     ]
    }
   ],
   "source": [
    "concat(\"---.----\", \"...---...\", sep='    ++++ ')"
   ]
  },
  {
   "cell_type": "code",
   "execution_count": 98,
   "metadata": {},
   "outputs": [
    {
     "data": {
      "text/plain": [
       "6"
      ]
     },
     "execution_count": 98,
     "metadata": {},
     "output_type": "execute_result"
    }
   ],
   "source": [
    "plus = lambda x, y: x + y\n",
    "prod = lambda x, y: x * y\n",
    "\n",
    "\n",
    "# 1 + 0 = 1\n",
    "# 0 + 7 = 7\n",
    "# neutral = 0\n",
    "\n",
    "# 9 * 1 = 9\n",
    "# neutral = 1\n",
    "\n",
    "# min(1, INT_MAX) = 1\n",
    "# min(29988, INT_MAX) = 29988\n",
    "# neutral = INT_MAX\n",
    "\n",
    "\n",
    "def sum(*args):\n",
    "    sum = 0\n",
    "    for arg in list(args):\n",
    "        sum = plus(sum, arg)\n",
    "    return sum\n",
    "\n",
    "\n",
    "def fold(op, neutral, *args):\n",
    "    sum = neutral\n",
    "    for arg in list(args):\n",
    "        sum = op(sum, arg)\n",
    "    return sum\n",
    "\n",
    "fold(min, 19191991919191919, 9, 2, 3)\n",
    "\n",
    "production = lambda *args: fold(prod, 1, *args)\n",
    "\n",
    "production(1, 2, 3, 4, 5, 6)\n",
    "\n",
    "sum = lambda *args: fold(plus, 0, *args)\n",
    "\n",
    "sum(1, 2, 3)"
   ]
  },
  {
   "cell_type": "markdown",
   "metadata": {},
   "source": []
  },
  {
   "cell_type": "code",
   "execution_count": 85,
   "metadata": {},
   "outputs": [
    {
     "data": {
      "text/plain": [
       "224"
      ]
     },
     "execution_count": 85,
     "metadata": {},
     "output_type": "execute_result"
    }
   ],
   "source": [
    "sum(3, 14, 15, 92, 65, 35)"
   ]
  },
  {
   "cell_type": "code",
   "execution_count": null,
   "metadata": {
    "collapsed": true
   },
   "outputs": [],
   "source": []
  }
 ],
 "metadata": {
  "kernelspec": {
   "display_name": "Python 3",
   "language": "python",
   "name": "python3"
  },
  "language_info": {
   "codemirror_mode": {
    "name": "ipython",
    "version": 3
   },
   "file_extension": ".py",
   "mimetype": "text/x-python",
   "name": "python",
   "nbconvert_exporter": "python",
   "pygments_lexer": "ipython3",
   "version": "3.6.1"
  }
 },
 "nbformat": 4,
 "nbformat_minor": 2
}
